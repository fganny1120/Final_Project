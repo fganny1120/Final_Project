{
 "cells": [
  {
   "cell_type": "code",
   "execution_count": 1,
   "id": "be447dcf",
   "metadata": {},
   "outputs": [],
   "source": [
    "import os\n",
    "import time\n",
    "import random\n",
    "import numpy as np\n",
    "import cv2\n",
    "import torch\n",
    "from tqdm import tqdm\n",
    "\"\"\" Seeding the randomness. \"\"\"\n",
    "def seeding(seed):\n",
    "    random.seed(seed)\n",
    "    os.environ[\"PYTHONHASHSEED\"] = str(seed)\n",
    "    np.random.seed(seed)\n",
    "    torch.manual_seed(seed)\n",
    "    torch.cuda.manual_seed(seed)\n",
    "    torch.backends.cudnn.deterministic = True\n",
    "\n",
    "\"\"\" Create a directory. \"\"\"\n",
    "def create_dir(path):\n",
    "    if not os.path.exists(path):\n",
    "        os.makedirs(path)\n",
    "\n",
    "\"\"\" Calculate the time taken \"\"\"\n",
    "def epoch_time(start_time, end_time):\n",
    "    elapsed_time = end_time - start_time\n",
    "    elapsed_mins = int(elapsed_time / 60)\n",
    "    elapsed_secs = int(elapsed_time - (elapsed_mins * 60))\n",
    "    return elapsed_mins, elapsed_secs\n",
    "def creat_dir(path):\n",
    "    if not os.path.exists(path):\n",
    "        os.makedirs(path)"
   ]
  },
  {
   "cell_type": "code",
   "execution_count": 2,
   "id": "e7803653",
   "metadata": {},
   "outputs": [],
   "source": [
    "import os\n",
    "import numpy as np\n",
    "import cv2\n",
    "import torch\n",
    "from torch.utils.data import Dataset\n",
    "\n",
    "class DriveDataset(Dataset):\n",
    "    def __init__(self, images_path, masks_path):\n",
    "        self.images_path = images_path\n",
    "        self.masks_path = masks_path\n",
    "        self.n_samples = len(images_path)\n",
    "        \n",
    "    def __getitem__(self, index):\n",
    "        \"\"\" Reading image \"\"\"\n",
    "        image = cv2.imread(self.images_path[index], cv2.IMREAD_COLOR)\n",
    "        image = image/255.0   ##(512,512,3)\n",
    "        image = np.transpose(image,(2, 0, 1))   ##(3,512,512)\n",
    "        image = image.astype(np.float32)\n",
    "        image = torch.from_numpy(image)\n",
    "        \n",
    "        \"\"\" Reading masks \"\"\"\n",
    "        mask = cv2.imread(self.masks_path[index], cv2.IMREAD_GRAYSCALE)\n",
    "        mask = mask/255.0   ##(512,512,3)\n",
    "        mask = np.expand_dims(mask, axis=0)   ##(1,512,512)\n",
    "        mask = mask.astype(np.float32)\n",
    "        mask = torch.from_numpy(mask)\n",
    "        \n",
    "        \n",
    "        return image, mask\n",
    "    \n",
    "    def __len__(self):\n",
    "        return self.n_samples\n",
    "    \n"
   ]
  },
  {
   "cell_type": "code",
   "execution_count": 3,
   "id": "f4b17bb8",
   "metadata": {},
   "outputs": [],
   "source": [
    "import torch\n",
    "import torch.nn as nn\n",
    "import torch.nn.functional as F\n",
    "\n",
    "class DiceLoss(nn.Module):\n",
    "    def __init__(self, weight=None, size_average=True):\n",
    "        super(DiceLoss, self).__init__()\n",
    "\n",
    "    def forward(self, inputs, targets, smooth=1):\n",
    "\n",
    "        #comment out if your model contains a sigmoid or equivalent activation layer\n",
    "        inputs = torch.sigmoid(inputs)\n",
    "\n",
    "        #flatten label and prediction tensors\n",
    "        inputs = inputs.view(-1)\n",
    "        targets = targets.view(-1)\n",
    "\n",
    "        intersection = (inputs * targets).sum()\n",
    "        dice = (2.*intersection + smooth)/(inputs.sum() + targets.sum() + smooth)\n",
    "\n",
    "        return 1 - dice\n",
    "\n",
    "class DiceBCELoss(nn.Module):\n",
    "    def __init__(self, weight=None, size_average=True):\n",
    "        super(DiceBCELoss, self).__init__()\n",
    "\n",
    "    def forward(self, inputs, targets, smooth=1):\n",
    "\n",
    "        #comment out if your model contains a sigmoid or equivalent activation layer\n",
    "        inputs = torch.sigmoid(inputs)\n",
    "\n",
    "        #flatten label and prediction tensors\n",
    "        inputs = inputs.view(-1)\n",
    "        targets = targets.view(-1)\n",
    "\n",
    "        intersection = (inputs * targets).sum()\n",
    "        dice_loss = 1 - (2.*intersection + smooth)/(inputs.sum() + targets.sum() + smooth)\n",
    "        BCE = F.binary_cross_entropy(inputs, targets, reduction='mean')\n",
    "        Dice_BCE = BCE + dice_loss\n",
    "\n",
    "        return Dice_BCE\n"
   ]
  },
  {
   "cell_type": "code",
   "execution_count": 4,
   "id": "1cd4132a",
   "metadata": {},
   "outputs": [
    {
     "name": "stdout",
     "output_type": "stream",
     "text": [
      "use cuda now!\n"
     ]
    }
   ],
   "source": [
    "'''train'''\n",
    "import os\n",
    "import time\n",
    "from glob import glob\n",
    "\n",
    "import torch\n",
    "from torch.utils.data import DataLoader\n",
    "import torch.nn as nn\n",
    "\n",
    "\"\"\"Choose device\"\"\"\n",
    "if torch.cuda.is_available():\n",
    "    device = \"cuda\"\n",
    "else:\n",
    "    device = \"cpu\"\n",
    "print(\"use\", device ,\"now!\")\n",
    "\n",
    "\n",
    "\n",
    "def evaluate(model, loader, loss_fn, device):\n",
    "    epoch_loss = 0.0\n",
    "    \n",
    "    model.eval()\n",
    "    with torch.no_grad():     ###不需要計算梯度，也不會進行反向傳播\n",
    "        for x,y in tqdm(loader):\n",
    "            x = x.to(device, dtype=torch.float32)\n",
    "            y = y.to(device, dtype=torch.float32)\n",
    "            \n",
    "            y_pred = model(x)\n",
    "            loss = loss_fn(y_pred, y)\n",
    "            epoch_loss += loss.item()\n",
    "        epoch_loss=epoch_loss/len(loader)\n",
    "    scheduler.step(epoch_loss)\n",
    "    return epoch_loss\n",
    "\n"
   ]
  },
  {
   "cell_type": "code",
   "execution_count": 5,
   "id": "006f9b62",
   "metadata": {},
   "outputs": [],
   "source": [
    "def train(model, loader, optimizer, loss_fn, device):\n",
    "    epoch_loss = 0.0\n",
    "\n",
    "    model.train()\n",
    "    for x, y in tqdm(loader):\n",
    "        x = x.to(device, dtype=torch.float32)\n",
    "        y = y.to(device, dtype=torch.float32)\n",
    "        optimizer.zero_grad()\n",
    "        y_pred = model(x)\n",
    "        loss = loss_fn(y_pred, y)\n",
    "        loss.backward()\n",
    "        optimizer.step()\n",
    "        epoch_loss += loss.item()\n",
    "    epoch_loss = epoch_loss/len(loader)\n",
    "    return epoch_loss"
   ]
  },
  {
   "cell_type": "code",
   "execution_count": 13,
   "id": "7870186e",
   "metadata": {},
   "outputs": [],
   "source": [
    "from U_Net_ResNet import U_Net_ResNet50\n",
    "save_name = 'U_Net_ResNet50'"
   ]
  },
  {
   "cell_type": "code",
   "execution_count": 7,
   "id": "9ae208df",
   "metadata": {},
   "outputs": [
    {
     "name": "stdout",
     "output_type": "stream",
     "text": [
      "Dataset Size:\n",
      "Train: 80-Valid: 20\n",
      "\n"
     ]
    },
    {
     "name": "stderr",
     "output_type": "stream",
     "text": [
      "100%|██████████| 80/80 [00:11<00:00,  6.80it/s]\n",
      "100%|██████████| 20/20 [00:00<00:00, 21.62it/s]\n"
     ]
    },
    {
     "name": "stdout",
     "output_type": "stream",
     "text": [
      "Valid loss improved from inf to 0.9941. Saving checkpoint:./U_Net_ResNet50_ASPP_2_best.pth\n",
      "Epoch: 01 | Epoch Time:0m 12s\n",
      "\tTrain Loss: 0.919\n",
      "\t Val. Loss: 0.994\n",
      "\n"
     ]
    },
    {
     "name": "stderr",
     "output_type": "stream",
     "text": [
      "100%|██████████| 80/80 [00:11<00:00,  7.03it/s]\n",
      "100%|██████████| 20/20 [00:00<00:00, 21.65it/s]\n"
     ]
    },
    {
     "name": "stdout",
     "output_type": "stream",
     "text": [
      "Valid loss improved from 0.9941 to 0.5673. Saving checkpoint:./U_Net_ResNet50_ASPP_2_best.pth\n",
      "Epoch: 02 | Epoch Time:0m 12s\n",
      "\tTrain Loss: 0.575\n",
      "\t Val. Loss: 0.567\n",
      "\n"
     ]
    },
    {
     "name": "stderr",
     "output_type": "stream",
     "text": [
      "100%|██████████| 80/80 [00:11<00:00,  7.03it/s]\n",
      "100%|██████████| 20/20 [00:00<00:00, 21.61it/s]\n"
     ]
    },
    {
     "name": "stdout",
     "output_type": "stream",
     "text": [
      "Valid loss improved from 0.5673 to 0.5117. Saving checkpoint:./U_Net_ResNet50_ASPP_2_best.pth\n",
      "Epoch: 03 | Epoch Time:0m 12s\n",
      "\tTrain Loss: 0.447\n",
      "\t Val. Loss: 0.512\n",
      "\n"
     ]
    },
    {
     "name": "stderr",
     "output_type": "stream",
     "text": [
      "100%|██████████| 80/80 [00:11<00:00,  7.03it/s]\n",
      "100%|██████████| 20/20 [00:00<00:00, 21.66it/s]\n"
     ]
    },
    {
     "name": "stdout",
     "output_type": "stream",
     "text": [
      "Valid loss improved from 0.5117 to 0.4235. Saving checkpoint:./U_Net_ResNet50_ASPP_2_best.pth\n",
      "Epoch: 04 | Epoch Time:0m 12s\n",
      "\tTrain Loss: 0.393\n",
      "\t Val. Loss: 0.424\n",
      "\n"
     ]
    },
    {
     "name": "stderr",
     "output_type": "stream",
     "text": [
      "100%|██████████| 80/80 [00:11<00:00,  7.04it/s]\n",
      "100%|██████████| 20/20 [00:00<00:00, 21.76it/s]\n"
     ]
    },
    {
     "name": "stdout",
     "output_type": "stream",
     "text": [
      "Epoch: 05 | Epoch Time:0m 12s\n",
      "\tTrain Loss: 0.378\n",
      "\t Val. Loss: 0.463\n",
      "\n"
     ]
    },
    {
     "name": "stderr",
     "output_type": "stream",
     "text": [
      "100%|██████████| 80/80 [00:11<00:00,  7.04it/s]\n",
      "100%|██████████| 20/20 [00:00<00:00, 21.73it/s]\n"
     ]
    },
    {
     "name": "stdout",
     "output_type": "stream",
     "text": [
      "Valid loss improved from 0.4235 to 0.3926. Saving checkpoint:./U_Net_ResNet50_ASPP_2_best.pth\n",
      "Epoch: 06 | Epoch Time:0m 12s\n",
      "\tTrain Loss: 0.360\n",
      "\t Val. Loss: 0.393\n",
      "\n"
     ]
    },
    {
     "name": "stderr",
     "output_type": "stream",
     "text": [
      "100%|██████████| 80/80 [00:11<00:00,  7.03it/s]\n",
      "100%|██████████| 20/20 [00:00<00:00, 21.73it/s]\n"
     ]
    },
    {
     "name": "stdout",
     "output_type": "stream",
     "text": [
      "Epoch: 07 | Epoch Time:0m 12s\n",
      "\tTrain Loss: 0.349\n",
      "\t Val. Loss: 0.394\n",
      "\n"
     ]
    },
    {
     "name": "stderr",
     "output_type": "stream",
     "text": [
      "100%|██████████| 80/80 [00:11<00:00,  7.04it/s]\n",
      "100%|██████████| 20/20 [00:00<00:00, 21.73it/s]\n"
     ]
    },
    {
     "name": "stdout",
     "output_type": "stream",
     "text": [
      "Epoch: 08 | Epoch Time:0m 12s\n",
      "\tTrain Loss: 0.338\n",
      "\t Val. Loss: 0.407\n",
      "\n"
     ]
    },
    {
     "name": "stderr",
     "output_type": "stream",
     "text": [
      "100%|██████████| 80/80 [00:11<00:00,  7.03it/s]\n",
      "100%|██████████| 20/20 [00:00<00:00, 21.74it/s]\n"
     ]
    },
    {
     "name": "stdout",
     "output_type": "stream",
     "text": [
      "Epoch: 09 | Epoch Time:0m 12s\n",
      "\tTrain Loss: 0.335\n",
      "\t Val. Loss: 0.453\n",
      "\n"
     ]
    },
    {
     "name": "stderr",
     "output_type": "stream",
     "text": [
      "100%|██████████| 80/80 [00:11<00:00,  7.04it/s]\n",
      "100%|██████████| 20/20 [00:00<00:00, 21.65it/s]\n"
     ]
    },
    {
     "name": "stdout",
     "output_type": "stream",
     "text": [
      "Valid loss improved from 0.3926 to 0.3761. Saving checkpoint:./U_Net_ResNet50_ASPP_2_best.pth\n",
      "Epoch: 10 | Epoch Time:0m 12s\n",
      "\tTrain Loss: 0.327\n",
      "\t Val. Loss: 0.376\n",
      "\n"
     ]
    },
    {
     "name": "stderr",
     "output_type": "stream",
     "text": [
      "100%|██████████| 80/80 [00:11<00:00,  7.03it/s]\n",
      "100%|██████████| 20/20 [00:00<00:00, 21.57it/s]\n"
     ]
    },
    {
     "name": "stdout",
     "output_type": "stream",
     "text": [
      "Epoch: 11 | Epoch Time:0m 12s\n",
      "\tTrain Loss: 0.320\n",
      "\t Val. Loss: 0.400\n",
      "\n"
     ]
    },
    {
     "name": "stderr",
     "output_type": "stream",
     "text": [
      "100%|██████████| 80/80 [00:11<00:00,  7.03it/s]\n",
      "100%|██████████| 20/20 [00:00<00:00, 21.72it/s]\n"
     ]
    },
    {
     "name": "stdout",
     "output_type": "stream",
     "text": [
      "Epoch: 12 | Epoch Time:0m 12s\n",
      "\tTrain Loss: 0.310\n",
      "\t Val. Loss: 0.387\n",
      "\n"
     ]
    },
    {
     "name": "stderr",
     "output_type": "stream",
     "text": [
      "100%|██████████| 80/80 [00:11<00:00,  7.04it/s]\n",
      "100%|██████████| 20/20 [00:00<00:00, 21.72it/s]\n"
     ]
    },
    {
     "name": "stdout",
     "output_type": "stream",
     "text": [
      "Valid loss improved from 0.3761 to 0.3605. Saving checkpoint:./U_Net_ResNet50_ASPP_2_best.pth\n",
      "Epoch: 13 | Epoch Time:0m 12s\n",
      "\tTrain Loss: 0.309\n",
      "\t Val. Loss: 0.360\n",
      "\n"
     ]
    },
    {
     "name": "stderr",
     "output_type": "stream",
     "text": [
      "100%|██████████| 80/80 [00:11<00:00,  7.04it/s]\n",
      "100%|██████████| 20/20 [00:00<00:00, 21.70it/s]\n"
     ]
    },
    {
     "name": "stdout",
     "output_type": "stream",
     "text": [
      "Epoch: 14 | Epoch Time:0m 12s\n",
      "\tTrain Loss: 0.305\n",
      "\t Val. Loss: 0.420\n",
      "\n"
     ]
    },
    {
     "name": "stderr",
     "output_type": "stream",
     "text": [
      "100%|██████████| 80/80 [00:11<00:00,  7.03it/s]\n",
      "100%|██████████| 20/20 [00:00<00:00, 21.75it/s]\n"
     ]
    },
    {
     "name": "stdout",
     "output_type": "stream",
     "text": [
      "Epoch: 15 | Epoch Time:0m 12s\n",
      "\tTrain Loss: 0.297\n",
      "\t Val. Loss: 0.377\n",
      "\n"
     ]
    },
    {
     "name": "stderr",
     "output_type": "stream",
     "text": [
      "100%|██████████| 80/80 [00:11<00:00,  7.04it/s]\n",
      "100%|██████████| 20/20 [00:00<00:00, 21.65it/s]\n"
     ]
    },
    {
     "name": "stdout",
     "output_type": "stream",
     "text": [
      "Epoch: 16 | Epoch Time:0m 12s\n",
      "\tTrain Loss: 0.291\n",
      "\t Val. Loss: 0.404\n",
      "\n"
     ]
    },
    {
     "name": "stderr",
     "output_type": "stream",
     "text": [
      "100%|██████████| 80/80 [00:11<00:00,  7.04it/s]\n",
      "100%|██████████| 20/20 [00:00<00:00, 21.70it/s]\n"
     ]
    },
    {
     "name": "stdout",
     "output_type": "stream",
     "text": [
      "Epoch: 17 | Epoch Time:0m 12s\n",
      "\tTrain Loss: 0.289\n",
      "\t Val. Loss: 0.419\n",
      "\n"
     ]
    },
    {
     "name": "stderr",
     "output_type": "stream",
     "text": [
      "100%|██████████| 80/80 [00:11<00:00,  7.04it/s]\n",
      "100%|██████████| 20/20 [00:00<00:00, 21.72it/s]\n"
     ]
    },
    {
     "name": "stdout",
     "output_type": "stream",
     "text": [
      "Epoch: 18 | Epoch Time:0m 12s\n",
      "\tTrain Loss: 0.286\n",
      "\t Val. Loss: 0.429\n",
      "\n"
     ]
    },
    {
     "name": "stderr",
     "output_type": "stream",
     "text": [
      "100%|██████████| 80/80 [00:11<00:00,  7.04it/s]\n",
      "100%|██████████| 20/20 [00:00<00:00, 21.74it/s]\n"
     ]
    },
    {
     "name": "stdout",
     "output_type": "stream",
     "text": [
      "Epoch 00019: reducing learning rate of group 0 to 6.0000e-05.\n",
      "Epoch: 19 | Epoch Time:0m 12s\n",
      "\tTrain Loss: 0.280\n",
      "\t Val. Loss: 0.416\n",
      "\n"
     ]
    },
    {
     "name": "stderr",
     "output_type": "stream",
     "text": [
      "100%|██████████| 80/80 [00:11<00:00,  7.04it/s]\n",
      "100%|██████████| 20/20 [00:00<00:00, 21.75it/s]\n"
     ]
    },
    {
     "name": "stdout",
     "output_type": "stream",
     "text": [
      "Epoch: 20 | Epoch Time:0m 12s\n",
      "\tTrain Loss: 0.267\n",
      "\t Val. Loss: 0.408\n",
      "\n"
     ]
    },
    {
     "name": "stderr",
     "output_type": "stream",
     "text": [
      "100%|██████████| 80/80 [00:11<00:00,  7.04it/s]\n",
      "100%|██████████| 20/20 [00:00<00:00, 21.70it/s]\n"
     ]
    },
    {
     "name": "stdout",
     "output_type": "stream",
     "text": [
      "Epoch: 21 | Epoch Time:0m 12s\n",
      "\tTrain Loss: 0.257\n",
      "\t Val. Loss: 0.390\n",
      "\n"
     ]
    },
    {
     "name": "stderr",
     "output_type": "stream",
     "text": [
      "100%|██████████| 80/80 [00:11<00:00,  7.04it/s]\n",
      "100%|██████████| 20/20 [00:00<00:00, 21.71it/s]\n"
     ]
    },
    {
     "name": "stdout",
     "output_type": "stream",
     "text": [
      "Epoch: 22 | Epoch Time:0m 12s\n",
      "\tTrain Loss: 0.252\n",
      "\t Val. Loss: 0.394\n",
      "\n"
     ]
    },
    {
     "name": "stderr",
     "output_type": "stream",
     "text": [
      "100%|██████████| 80/80 [00:11<00:00,  7.04it/s]\n",
      "100%|██████████| 20/20 [00:00<00:00, 21.67it/s]\n"
     ]
    },
    {
     "name": "stdout",
     "output_type": "stream",
     "text": [
      "Epoch: 23 | Epoch Time:0m 12s\n",
      "\tTrain Loss: 0.248\n",
      "\t Val. Loss: 0.408\n",
      "\n"
     ]
    },
    {
     "name": "stderr",
     "output_type": "stream",
     "text": [
      "100%|██████████| 80/80 [00:11<00:00,  7.04it/s]\n",
      "100%|██████████| 20/20 [00:00<00:00, 21.73it/s]\n"
     ]
    },
    {
     "name": "stdout",
     "output_type": "stream",
     "text": [
      "Epoch: 24 | Epoch Time:0m 12s\n",
      "\tTrain Loss: 0.245\n",
      "\t Val. Loss: 0.423\n",
      "\n"
     ]
    },
    {
     "name": "stderr",
     "output_type": "stream",
     "text": [
      "100%|██████████| 80/80 [00:11<00:00,  7.03it/s]\n",
      "100%|██████████| 20/20 [00:00<00:00, 21.75it/s]\n"
     ]
    },
    {
     "name": "stdout",
     "output_type": "stream",
     "text": [
      "Epoch 00025: reducing learning rate of group 0 to 6.0000e-06.\n",
      "Epoch: 25 | Epoch Time:0m 12s\n",
      "\tTrain Loss: 0.241\n",
      "\t Val. Loss: 0.492\n",
      "\n"
     ]
    },
    {
     "name": "stderr",
     "output_type": "stream",
     "text": [
      "100%|██████████| 80/80 [00:11<00:00,  7.03it/s]\n",
      "100%|██████████| 20/20 [00:00<00:00, 21.75it/s]\n"
     ]
    },
    {
     "name": "stdout",
     "output_type": "stream",
     "text": [
      "Epoch: 26 | Epoch Time:0m 12s\n",
      "\tTrain Loss: 0.238\n",
      "\t Val. Loss: 0.427\n",
      "\n"
     ]
    },
    {
     "name": "stderr",
     "output_type": "stream",
     "text": [
      "100%|██████████| 80/80 [00:11<00:00,  7.03it/s]\n",
      "100%|██████████| 20/20 [00:00<00:00, 21.61it/s]\n"
     ]
    },
    {
     "name": "stdout",
     "output_type": "stream",
     "text": [
      "Epoch: 27 | Epoch Time:0m 12s\n",
      "\tTrain Loss: 0.237\n",
      "\t Val. Loss: 0.442\n",
      "\n"
     ]
    },
    {
     "name": "stderr",
     "output_type": "stream",
     "text": [
      "100%|██████████| 80/80 [00:11<00:00,  7.04it/s]\n",
      "100%|██████████| 20/20 [00:00<00:00, 21.73it/s]\n"
     ]
    },
    {
     "name": "stdout",
     "output_type": "stream",
     "text": [
      "Epoch: 28 | Epoch Time:0m 12s\n",
      "\tTrain Loss: 0.237\n",
      "\t Val. Loss: 0.443\n",
      "\n"
     ]
    },
    {
     "name": "stderr",
     "output_type": "stream",
     "text": [
      "100%|██████████| 80/80 [00:11<00:00,  7.03it/s]\n",
      "100%|██████████| 20/20 [00:00<00:00, 21.70it/s]\n"
     ]
    },
    {
     "name": "stdout",
     "output_type": "stream",
     "text": [
      "Epoch: 29 | Epoch Time:0m 12s\n",
      "\tTrain Loss: 0.236\n",
      "\t Val. Loss: 0.400\n",
      "\n"
     ]
    },
    {
     "name": "stderr",
     "output_type": "stream",
     "text": [
      "100%|██████████| 80/80 [00:11<00:00,  7.03it/s]\n",
      "100%|██████████| 20/20 [00:00<00:00, 21.23it/s]\n"
     ]
    },
    {
     "name": "stdout",
     "output_type": "stream",
     "text": [
      "Epoch: 30 | Epoch Time:0m 12s\n",
      "\tTrain Loss: 0.236\n",
      "\t Val. Loss: 0.417\n",
      "\n"
     ]
    },
    {
     "name": "stderr",
     "output_type": "stream",
     "text": [
      "100%|██████████| 80/80 [00:11<00:00,  7.02it/s]\n",
      "100%|██████████| 20/20 [00:00<00:00, 21.67it/s]\n"
     ]
    },
    {
     "name": "stdout",
     "output_type": "stream",
     "text": [
      "Epoch 00031: reducing learning rate of group 0 to 6.0000e-07.\n",
      "Epoch: 31 | Epoch Time:0m 12s\n",
      "\tTrain Loss: 0.235\n",
      "\t Val. Loss: 0.411\n",
      "\n"
     ]
    },
    {
     "name": "stderr",
     "output_type": "stream",
     "text": [
      "100%|██████████| 80/80 [00:11<00:00,  7.03it/s]\n",
      "100%|██████████| 20/20 [00:00<00:00, 21.72it/s]\n"
     ]
    },
    {
     "name": "stdout",
     "output_type": "stream",
     "text": [
      "Epoch: 32 | Epoch Time:0m 12s\n",
      "\tTrain Loss: 0.235\n",
      "\t Val. Loss: 0.410\n",
      "\n"
     ]
    },
    {
     "name": "stderr",
     "output_type": "stream",
     "text": [
      "100%|██████████| 80/80 [00:11<00:00,  7.04it/s]\n",
      "100%|██████████| 20/20 [00:00<00:00, 21.71it/s]\n"
     ]
    },
    {
     "name": "stdout",
     "output_type": "stream",
     "text": [
      "Epoch: 33 | Epoch Time:0m 12s\n",
      "\tTrain Loss: 0.235\n",
      "\t Val. Loss: 0.469\n",
      "\n"
     ]
    },
    {
     "name": "stderr",
     "output_type": "stream",
     "text": [
      "100%|██████████| 80/80 [00:11<00:00,  7.04it/s]\n",
      "100%|██████████| 20/20 [00:00<00:00, 21.72it/s]\n"
     ]
    },
    {
     "name": "stdout",
     "output_type": "stream",
     "text": [
      "Epoch: 34 | Epoch Time:0m 12s\n",
      "\tTrain Loss: 0.235\n",
      "\t Val. Loss: 0.417\n",
      "\n"
     ]
    },
    {
     "name": "stderr",
     "output_type": "stream",
     "text": [
      "100%|██████████| 80/80 [00:11<00:00,  7.03it/s]\n",
      "100%|██████████| 20/20 [00:00<00:00, 21.70it/s]\n"
     ]
    },
    {
     "name": "stdout",
     "output_type": "stream",
     "text": [
      "Epoch: 35 | Epoch Time:0m 12s\n",
      "\tTrain Loss: 0.235\n",
      "\t Val. Loss: 0.405\n",
      "\n"
     ]
    },
    {
     "name": "stderr",
     "output_type": "stream",
     "text": [
      "100%|██████████| 80/80 [00:11<00:00,  7.03it/s]\n",
      "100%|██████████| 20/20 [00:00<00:00, 21.64it/s]\n"
     ]
    },
    {
     "name": "stdout",
     "output_type": "stream",
     "text": [
      "Epoch: 36 | Epoch Time:0m 12s\n",
      "\tTrain Loss: 0.235\n",
      "\t Val. Loss: 0.430\n",
      "\n"
     ]
    },
    {
     "name": "stderr",
     "output_type": "stream",
     "text": [
      "100%|██████████| 80/80 [00:11<00:00,  7.04it/s]\n",
      "100%|██████████| 20/20 [00:00<00:00, 21.68it/s]\n"
     ]
    },
    {
     "name": "stdout",
     "output_type": "stream",
     "text": [
      "Epoch 00037: reducing learning rate of group 0 to 6.0000e-08.\n",
      "Epoch: 37 | Epoch Time:0m 12s\n",
      "\tTrain Loss: 0.235\n",
      "\t Val. Loss: 0.431\n",
      "\n"
     ]
    },
    {
     "name": "stderr",
     "output_type": "stream",
     "text": [
      "100%|██████████| 80/80 [00:11<00:00,  7.03it/s]\n",
      "100%|██████████| 20/20 [00:00<00:00, 21.63it/s]\n"
     ]
    },
    {
     "name": "stdout",
     "output_type": "stream",
     "text": [
      "Epoch: 38 | Epoch Time:0m 12s\n",
      "\tTrain Loss: 0.235\n",
      "\t Val. Loss: 0.407\n",
      "\n"
     ]
    },
    {
     "name": "stderr",
     "output_type": "stream",
     "text": [
      "100%|██████████| 80/80 [00:11<00:00,  7.04it/s]\n",
      "100%|██████████| 20/20 [00:00<00:00, 21.76it/s]\n"
     ]
    },
    {
     "name": "stdout",
     "output_type": "stream",
     "text": [
      "Epoch: 39 | Epoch Time:0m 12s\n",
      "\tTrain Loss: 0.235\n",
      "\t Val. Loss: 0.403\n",
      "\n"
     ]
    },
    {
     "name": "stderr",
     "output_type": "stream",
     "text": [
      "100%|██████████| 80/80 [00:11<00:00,  7.04it/s]\n",
      "100%|██████████| 20/20 [00:00<00:00, 21.73it/s]\n"
     ]
    },
    {
     "name": "stdout",
     "output_type": "stream",
     "text": [
      "Epoch: 40 | Epoch Time:0m 12s\n",
      "\tTrain Loss: 0.235\n",
      "\t Val. Loss: 0.437\n",
      "\n"
     ]
    },
    {
     "name": "stderr",
     "output_type": "stream",
     "text": [
      "100%|██████████| 80/80 [00:11<00:00,  7.03it/s]\n",
      "100%|██████████| 20/20 [00:00<00:00, 21.69it/s]\n"
     ]
    },
    {
     "name": "stdout",
     "output_type": "stream",
     "text": [
      "Epoch: 41 | Epoch Time:0m 12s\n",
      "\tTrain Loss: 0.235\n",
      "\t Val. Loss: 0.417\n",
      "\n"
     ]
    },
    {
     "name": "stderr",
     "output_type": "stream",
     "text": [
      "100%|██████████| 80/80 [00:11<00:00,  7.03it/s]\n",
      "100%|██████████| 20/20 [00:00<00:00, 21.72it/s]\n"
     ]
    },
    {
     "name": "stdout",
     "output_type": "stream",
     "text": [
      "Epoch: 42 | Epoch Time:0m 12s\n",
      "\tTrain Loss: 0.235\n",
      "\t Val. Loss: 0.393\n",
      "\n"
     ]
    },
    {
     "name": "stderr",
     "output_type": "stream",
     "text": [
      "100%|██████████| 80/80 [00:11<00:00,  7.03it/s]\n",
      "100%|██████████| 20/20 [00:00<00:00, 21.73it/s]"
     ]
    },
    {
     "name": "stdout",
     "output_type": "stream",
     "text": [
      "Epoch 00043: reducing learning rate of group 0 to 6.0000e-09.\n",
      "Epoch: 43 | Epoch Time:0m 0s\n",
      "\tTrain Loss: 0.235\n",
      "\t Val. Loss: 0.481\n",
      "\n",
      "No improve!!\n"
     ]
    },
    {
     "name": "stderr",
     "output_type": "stream",
     "text": [
      "\n"
     ]
    }
   ],
   "source": [
    "# from U_Net import U_Net\n",
    "from U_Net_ResNet import U_Net_ResNet50\n",
    "# from U_Net_ResNet_ASPP import U_Net_ResNet50_ASPP   \n",
    "\n",
    "save_name = 'U_Net_ResNet50_ASPP_2'\n",
    "\n",
    "loss_plot = []\n",
    "loss_val_plot = []\n",
    "\"\"\" Seeding \"\"\" \n",
    "seeding(42)\n",
    "\n",
    "\"\"\" Directories \"\"\" \n",
    "creat_dir(\"files\")\n",
    "data_path = './eyedata'\n",
    "\"\"\" Load dataset \"\"\" \n",
    "train_x = sorted(glob(os.path.join(data_path,'train','image','*'))) \n",
    "train_y = sorted(glob(os.path.join(data_path,'train','mask','*')))\n",
    "\n",
    "valid_x = sorted(glob(os.path.join(data_path,'test','image','*')))\n",
    "valid_y = sorted(glob(os.path.join(data_path,'test','mask','*')))\n",
    "\n",
    "data_str = f\"Dataset Size:\\nTrain: {len(train_x)}-Valid: {len(valid_x)}\\n\" \n",
    "print(data_str)\n",
    "\n",
    "\"\"\" Hyperparameters \"\"\"\n",
    "H = 512 \n",
    "W = 512 \n",
    "size = (H,W) \n",
    "batch_size = 1\n",
    "num_epochs = 200\n",
    "patient = 30\n",
    "stale = 0\n",
    "lr = 6e-4\n",
    "checkpoint_path = f\"./{save_name}_best.pth\"\n",
    "\n",
    "\"\"\" Dataset and Loader \"\"\" \n",
    "train_dataset = DriveDataset(train_x, train_y) \n",
    "valid_dataset = DriveDataset(valid_x, valid_y)\n",
    "\n",
    "train_loader = DataLoader( \n",
    "    dataset=train_dataset, \n",
    "    batch_size=batch_size, \n",
    "    shuffle=True, \n",
    "    #num_workers=0 \n",
    ") \n",
    "valid_loader = DataLoader( \n",
    "    dataset=valid_dataset, \n",
    "    batch_size=batch_size, \n",
    "    shuffle=False, \n",
    "    #num_workers=0 \n",
    ")\n",
    "\n",
    "model = U_Net_ResNet50_ASPP(out_c = 1) \n",
    "model = model.to(device)\n",
    "\n",
    "optimizer = torch.optim.Adam(model.parameters(),lr=lr)#, weight_decay = 3e-4)\n",
    "# optimizer = torch.optim.SGD(model.parameters(),lr=lr, momentum = 0.7, weight_decay = 3e-4)\n",
    "# optimizer = torch.optim.RMSprop(model.parameters(),lr=lr,momentum=0.45,weight_decay=1e-8)\n",
    "scheduler = torch.optim.lr_scheduler.ReduceLROnPlateau(optimizer, \"min\", patience=5, verbose=True) ###若指標沒有變更好則降低學習率 \n",
    "loss_fn = DiceBCELoss()\n",
    "\n",
    "\"\"\"Training the model\"\"\" \n",
    "best_valid_loss = float(\"inf\")\n",
    "\n",
    "for epoch in range(num_epochs): \n",
    "    start_time = time.time()\n",
    "    train_loss = train(model, train_loader, optimizer, loss_fn, device)\n",
    "    valid_loss = evaluate(model, valid_loader, loss_fn, device)\n",
    "    \"\"\" Saving the model \"\"\"\n",
    "    if valid_loss< best_valid_loss:\n",
    "        data_str = f\"Valid loss improved from {best_valid_loss:2.4f} to {valid_loss:2.4f}. Saving checkpoint:{checkpoint_path}\"\n",
    "        print(data_str)\n",
    "        best_valid_loss = valid_loss\n",
    "        torch.save(model.state_dict(), checkpoint_path)\n",
    "        stale = 0\n",
    "    else:\n",
    "        stale += 1\n",
    "        if stale >= patient:\n",
    "            epoch_mins, epoch_secs = epoch_time(start_time, end_time)\n",
    "            data_str = f'Epoch: {epoch+1:02} | Epoch Time:{epoch_mins}m {epoch_secs}s\\n'\n",
    "            data_str += f'\\tTrain Loss: {train_loss:.3f}\\n'\n",
    "            data_str += f'\\t Val. Loss: {valid_loss:.3f}\\n'\n",
    "            print(data_str)\n",
    "            print('No improve!!')\n",
    "            break\n",
    "    loss_plot.append(train_loss)\n",
    "    loss_val_plot.append(valid_loss)\n",
    "    end_time = time.time()\n",
    "    epoch_mins, epoch_secs = epoch_time(start_time, end_time)\n",
    "    data_str = f'Epoch: {epoch+1:02} | Epoch Time:{epoch_mins}m {epoch_secs}s\\n'\n",
    "    data_str += f'\\tTrain Loss: {train_loss:.3f}\\n'\n",
    "    data_str += f'\\t Val. Loss: {valid_loss:.3f}\\n'\n",
    "    print(data_str)"
   ]
  },
  {
   "cell_type": "code",
   "execution_count": 11,
   "id": "6a323cb0",
   "metadata": {},
   "outputs": [
    {
     "data": {
      "image/png": "[encoded data removed]",
      "text/plain": [
       "<Figure size 640x480 with 1 Axes>"
      ]
     },
     "metadata": {},
     "output_type": "display_data"
    }
   ],
   "source": [
    "import matplotlib.pyplot as plt\n",
    "plt.plot(loss_plot)\n",
    "plt.plot(loss_val_plot)\n",
    "plt.savefig(f'./{save_name} loss.png',dpi=600)\n",
    "plt.show()"
   ]
  },
  {
   "cell_type": "code",
   "execution_count": 14,
   "id": "e9106cd7",
   "metadata": {},
   "outputs": [
    {
     "name": "stdout",
     "output_type": "stream",
     "text": [
      "use cuda now!\n"
     ]
    },
    {
     "name": "stderr",
     "output_type": "stream",
     "text": [
      "100%|██████████| 20/20 [00:03<00:00,  5.39it/s]"
     ]
    },
    {
     "name": "stdout",
     "output_type": "stream",
     "text": [
      "Jaccard: 0.6620 - F1: 0.7956 - Recall:0.7728 - Precision: 0.8290 - Acc: 0.9657\n",
      "FPS:  204.79250027464815\n"
     ]
    },
    {
     "name": "stderr",
     "output_type": "stream",
     "text": [
      "\n"
     ]
    }
   ],
   "source": [
    "\"\"\" Test \"\"\"\n",
    "import os,time\n",
    "from operator import add\n",
    "import numpy as np\n",
    "from glob import glob\n",
    "import cv2\n",
    "from tqdm import tqdm\n",
    "\n",
    "import torch\n",
    "from sklearn.metrics import accuracy_score, f1_score, jaccard_score, precision_score, recall_score\n",
    "\n",
    "def calculate_metrics(y_true, y_pred):\n",
    "    \"\"\" Ground truth \"\"\"\n",
    "    y_true = y_true.cpu().numpy()     ###將資料從tensor轉成numpy的屬性並將資料放入cpu\n",
    "    y_true = y_true > 0.5\n",
    "    y_true = y_true.astype(np.uint8)\n",
    "    y_true = y_true.reshape(-1)\n",
    "    \n",
    "    \"\"\" Prediction \"\"\"\n",
    "    y_pred = y_pred.cpu().numpy()\n",
    "    y_pred = y_pred > 0.5\n",
    "    y_pred = y_pred.astype(np.uint8)\n",
    "    y_pred = y_pred.reshape(-1)\n",
    "    \n",
    "    score_jaccard = jaccard_score(y_true, y_pred)\n",
    "    score_f1 = f1_score(y_true, y_pred)\n",
    "    score_recall = recall_score(y_true, y_pred)\n",
    "    score_precision = precision_score(y_true, y_pred)\n",
    "    score_acc = accuracy_score(y_true, y_pred)\n",
    "    \n",
    "    return [score_jaccard, score_f1, score_recall, score_precision, score_acc]\n",
    "\n",
    "def mask_parse(mask):\n",
    "    mask = np.expand_dims(mask, axis=-1)     ###(512, 512, 1)\n",
    "    mask = np.concatenate([mask, mask, mask], axis=-1)     ###(512,512,3)\n",
    "    return mask\n",
    "path = os.path.join(data_path)\n",
    "    \n",
    "\"\"\"Choose device\"\"\"\n",
    "if torch.cuda.is_available():\n",
    "    device = \"cuda\"\n",
    "else:\n",
    "    device = \"cpu\"\n",
    "print(\"use\", device ,\"now!\")\n",
    "\n",
    "\"\"\" seeding \"\"\"\n",
    "seeding(42)\n",
    "\n",
    "\"\"\" Load dataset \"\"\"\n",
    "test_x = sorted(glob(os.path.join(path,'test','image','*')))\n",
    "test_y = sorted(glob(os.path.join(path,'test','mask','*')))\n",
    "\n",
    "\"\"\" Hyperparameters \"\"\"\n",
    "H = 512\n",
    "W = 512\n",
    "size = (W,H)\n",
    "checkpoint_path = f\"./{save_name}_best.pth\"\n",
    "\n",
    "\"\"\" Load the checkpoint \"\"\"\n",
    "\n",
    "model = U_Net_ResNet50(1)\n",
    "model = model.to(device)\n",
    "model.load_state_dict(torch.load(checkpoint_path, map_location=device))\n",
    "model.eval()\n",
    "\n",
    "matrics_score = [0.0, 0.0, 0.0, 0.0, 0.0]\n",
    "time_taken = []\n",
    "index = 0\n",
    "data_path=\"./eyedata/\"\n",
    "for i, (x, y) in tqdm(enumerate(zip(test_x, test_y)), total=len(test_x)):\n",
    "    \"\"\" Extract the name \"\"\"\n",
    "    name = x.split(\"/\")[-1].split(\"\\\\\")[-1].split(\".\")[0]\n",
    "    \n",
    "    \"\"\" Reading image \"\"\"\n",
    "    image = cv2.imread(x,cv2.IMREAD_COLOR)     ###(512,512,3)\n",
    "    x = np.transpose(image,(2, 0, 1))     ###(3,512,512)\n",
    "    x = x/255.0\n",
    "    x = np.expand_dims(x, axis=0)     ###(1,3,512,512)\n",
    "    x = x.astype(np.float32)\n",
    "    x = torch.from_numpy(x)\n",
    "    x = x.to(device)\n",
    "    \"\"\" Reading mask \"\"\"\n",
    "    mask = cv2.imread(y,cv2.IMREAD_GRAYSCALE)     ###(512,512)\n",
    "    y = np.expand_dims(mask, axis=0)     ###(1,512,512)\n",
    "    y = y/255.0\n",
    "    y = np.expand_dims(y, axis=0)     ###(1,1,512,512)\n",
    "    y = y.astype(np.float32)\n",
    "    y = torch.from_numpy(y)\n",
    "    y = y.to(device)\n",
    "    \n",
    "    with torch.no_grad():\n",
    "        \"\"\" Prediction and calculating FPS \"\"\"\n",
    "        start_time = time.time()\n",
    "        pred_y = model(x)\n",
    "        pred_y = torch.sigmoid(pred_y)\n",
    "        total_time = time.time()-start_time\n",
    "        time_taken.append(total_time)\n",
    "        \n",
    "        score = calculate_metrics(y,pred_y)\n",
    "        matrics_score = list(map(add, matrics_score, score))\n",
    "        pred_y = pred_y[0].cpu().numpy()     ###(1,512,512)\n",
    "        pred_y = np.squeeze(pred_y, axis=0)  ###(512,512)\n",
    "        pred_y = pred_y>0.5\n",
    "        pred_y = np.array(pred_y, dtype=np.uint8)\n",
    "        \n",
    "    \"\"\" Saving masks \"\"\"\n",
    "    ori_mask = mask_parse(mask)\n",
    "    pred_y = mask_parse(pred_y)\n",
    "    line = np.ones((size[1], 10, 3)) * 128\n",
    "    \n",
    "    \n",
    "    cat_images = np.concatenate(\n",
    "        [image, line, ori_mask, line, pred_y * 255], axis=1\n",
    "    )\n",
    "    #print(cat_images.shape)\n",
    "    \"\"\" Folders \"\"\"\n",
    "    tmp_result_name = f\"{name}_{index}.png\"\n",
    "    creat_dir(os.path.join('./',\"new_data\",save_name))\n",
    "    result_name = os.path.join('./',\"new_data\", save_name, tmp_result_name)\n",
    "    \n",
    "    cv2.imwrite(result_name, cat_images)\n",
    "    index +=1\n",
    "    \n",
    "jaccard = matrics_score[0]/len(test_x)\n",
    "f1 = matrics_score[1]/len(test_x)\n",
    "recall = matrics_score[2]/len(test_x)\n",
    "precision = matrics_score[3]/len(test_x)\n",
    "acc = matrics_score[4]/len(test_x)\n",
    "print(f\"Jaccard: {jaccard:1.4f} - F1: {f1:1.4f} - Recall:{recall:1.4f} - Precision: {precision:1.4f} - Acc: {acc:1.4f}\")\n",
    "\n",
    "fps = 1/np.mean(time_taken)\n",
    "print(\"FPS: \", fps)"
   ]
  },
  {
   "cell_type": "code",
   "execution_count": null,
   "id": "8e2dbe8d",
   "metadata": {},
   "outputs": [],
   "source": []
  },
  {
   "cell_type": "code",
   "execution_count": null,
   "id": "da1d1503",
   "metadata": {},
   "outputs": [],
   "source": []
  }
 ],
 "metadata": {
  "kernelspec": {
   "display_name": "Python 3 (ipykernel)",
   "language": "python",
   "name": "python3"
  },
  "language_info": {
   "codemirror_mode": {
    "name": "ipython",
    "version": 3
   },
   "file_extension": ".py",
   "mimetype": "text/x-python",
   "name": "python",
   "nbconvert_exporter": "python",
   "pygments_lexer": "ipython3",
   "version": "3.11.7"
  }
 },
 "nbformat": 4,
 "nbformat_minor": 5
}
